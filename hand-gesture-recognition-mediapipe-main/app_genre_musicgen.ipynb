{
 "cells": [
  {
   "cell_type": "code",
   "execution_count": null,
   "id": "5dac493c-eee9-47ef-8fbf-34e48f346489",
   "metadata": {
    "scrolled": true
   },
   "outputs": [],
   "source": [
    "!python app_genre_musicgen.py"
   ]
  },
  {
   "cell_type": "code",
   "execution_count": null,
   "id": "25cbb5d6-180e-4983-a6da-6e987b37504b",
   "metadata": {},
   "outputs": [],
   "source": []
  }
 ],
 "metadata": {
  "kernelspec": {
   "display_name": "Python 3 (ipykernel)",
   "language": "python",
   "name": "python3"
  },
  "language_info": {
   "codemirror_mode": {
    "name": "ipython",
    "version": 3
   },
   "file_extension": ".py",
   "mimetype": "text/x-python",
   "name": "python",
   "nbconvert_exporter": "python",
   "pygments_lexer": "ipython3",
   "version": "3.9.19"
  }
 },
 "nbformat": 4,
 "nbformat_minor": 5
}
